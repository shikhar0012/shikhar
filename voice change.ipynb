{
 "cells": [
  {
   "cell_type": "code",
   "execution_count": 1,
   "id": "aa11ea7d",
   "metadata": {},
   "outputs": [
    {
     "name": "stdout",
     "output_type": "stream",
     "text": [
      "1.0\n",
      "200\n"
     ]
    }
   ],
   "source": [
    "import pyttsx3\n",
    "\n",
    "engine = pyttsx3.init()\n",
    "engine.say(\"hii\")\n",
    "engine.runAndWait()\n",
    "\n",
    "volume = engine.getProperty('volume')   \n",
    "print (volume)                          \n",
    "engine.setProperty('volume',0.2)\n",
    "\n",
    "voices = engine.getProperty('voices')       \n",
    "engine.setProperty('voice', voices[1].id)  \n",
    "\n",
    "rate = engine.getProperty('rate')   \n",
    "print (rate)                        \n",
    "engine.setProperty('rate', 450)     \n"
   ]
  },
  {
   "cell_type": "code",
   "execution_count": 2,
   "id": "0e63a75b",
   "metadata": {},
   "outputs": [],
   "source": [
    "import pyttsx3\n",
    "\n",
    "engine = pyttsx3.init()\n",
    "engine.say(\"hello\")\n",
    "engine.runAndWait()\n",
    "\n",
    "voices = engine.getProperty('voices')       \n",
    "engine.setProperty('voice', voices[0].id)  \n"
   ]
  },
  {
   "cell_type": "code",
   "execution_count": null,
   "id": "d72dc108",
   "metadata": {},
   "outputs": [],
   "source": []
  }
 ],
 "metadata": {
  "kernelspec": {
   "display_name": "Python 3 (ipykernel)",
   "language": "python",
   "name": "python3"
  },
  "language_info": {
   "codemirror_mode": {
    "name": "ipython",
    "version": 3
   },
   "file_extension": ".py",
   "mimetype": "text/x-python",
   "name": "python",
   "nbconvert_exporter": "python",
   "pygments_lexer": "ipython3",
   "version": "3.11.5"
  }
 },
 "nbformat": 4,
 "nbformat_minor": 5
}
